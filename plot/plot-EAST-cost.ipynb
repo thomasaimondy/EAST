{
 "cells": [
  {
   "cell_type": "code",
   "execution_count": 1,
   "metadata": {},
   "outputs": [],
   "source": [
    "%matplotlib inline\n",
    "import matplotlib\n",
    "import matplotlib.pyplot as plt\n",
    "import pandas as pd\n",
    "import numpy as np\n",
    "import xlrd\n",
    "import matplotlib.ticker as ticker\n",
    "from matplotlib.ticker import FuncFormatter\n",
    "import os\n",
    "from sklearn import linear_model\n",
    "font = {'family': 'arial',\n",
    "        'weight': 'normal',\n",
    "        'size': '16'}"
   ]
  },
  {
   "cell_type": "code",
   "execution_count": 122,
   "metadata": {},
   "outputs": [],
   "source": [
    "cost={}\n",
    "z, m, n, k = 900, 14400, 2000, 10#900, 14400, 2000, 10\n",
    "cost['EDF_tid'] = (z + m*n + n*k) # 6 = flow factor\n",
    "cost['BRP_tid'] = z + m*n + n*k + k*n + k*m + k*z\n",
    "cost['Eprop_tid'] = z + m*n + n*k + n*n + k*n + n*n + k*m + k*z\n",
    "cost['NRR_tid'] = z + m*n + n*k + n*n + k*n + n*n + k*m + k*z\n",
    "z, m, n, k = 784, 12544, 2000, 10#784, 12544, 2000, 10\n",
    "cost['EDF_mni'] = ( z + m*n + n*k)\n",
    "cost['BRP_mni'] = z + m*n + n*k + k*n + k*m + k*z\n",
    "cost['Eprop_mni'] = z + m*n + n*k + n*n + k*n + n*n + k*m + k*z\n",
    "cost['NRR_mni'] = z + m*n + n*k + n*n + k*n + n*n + k*m + k*z"
   ]
  },
  {
   "cell_type": "markdown",
   "metadata": {},
   "source": [
    "# TIDigits Cost"
   ]
  },
  {
   "cell_type": "code",
   "execution_count": 123,
   "metadata": {
    "scrolled": false
   },
   "outputs": [
    {
     "name": "stdout",
     "output_type": "stream",
     "text": [
      "(2, 100)\n",
      "EDF\n",
      "0.9827302631578948\n",
      "0.16447368421052744\n",
      "(2, 100)\n",
      "BRP\n",
      "0.9594051446945338\n",
      "0.28135048231511917\n",
      "(2, 100)\n",
      "Eprop\n",
      "0.970394746253365\n",
      "0.3947370930721945\n",
      "(2, 100)\n",
      "NRR\n",
      "0.9787006707567918\n",
      "0.17269739979191456\n"
     ]
    },
    {
     "data": {
      "image/png": "[encoded data removed]",
      "text/plain": [
       "<Figure size 432x288 with 1 Axes>"
      ]
     },
     "metadata": {
      "needs_background": "light"
     },
     "output_type": "display_data"
    },
    {
     "name": "stdout",
     "output_type": "stream",
     "text": [
      "min 0.03778135048231505 max 0.4\n",
      "[0.03778135 0.12833601 0.21889068 0.30944534 0.4       ]\n",
      "[0.03778135 0.12833601 0.21889068 0.30944534 0.4       ]\n",
      "           EDF       BRP     Eprop       NRR\n",
      "mean  2.363314  5.856768  4.846201  3.551414\n",
      "std   0.230567  0.695854  0.258957  0.147976\n"
     ]
    },
    {
     "data": {
      "image/png": "[encoded data removed]",
      "text/plain": [
       "<Figure size 432x288 with 1 Axes>"
      ]
     },
     "metadata": {
      "needs_background": "light"
     },
     "output_type": "display_data"
    }
   ],
   "source": [
    "def plot(list_,label,index):\n",
    "    acc_list = []\n",
    "    length = []\n",
    "    for i in range(len(list_)):\n",
    "        file = open(os.path.join(rootpath,list_[i]),'r').readlines()\n",
    "        length.append(len(file))\n",
    "    max_=min(length)\n",
    "    for j in range(len(list_)):\n",
    "        acc = []\n",
    "        file = open(os.path.join(rootpath,list_[j]),'r').readlines()\n",
    "        for i in range(len(file)):\n",
    "            acc.append(float(file[i].split(' ')[1].split('\\n')[0]))\n",
    "        acc_list.append(acc[:max_])\n",
    "#         print(j)\n",
    "        data_all[j,:,index] = acc[:max_]\n",
    "    acc_list = np.array(acc_list)\n",
    "    \n",
    "    print(acc_list.shape)\n",
    "    plt.plot(np.arange(acc_list.shape[1]),acc_list.mean(0),label=label)\n",
    "    print(label)\n",
    "    print(acc_list.mean(0).max()/100)\n",
    "    lambda_std = 1\n",
    "    print(acc_list.std(0)[np.where(acc_list.mean(0)==acc_list.mean(0).max())[0][0]])\n",
    "    plt.fill_between(range(acc_list.shape[1]), (acc_list.mean(0) - lambda_std * acc_list.std(0)), (acc_list.mean(0) + lambda_std * acc_list.std(0)), alpha=.3)\n",
    "    \n",
    "data_all = np.zeros((2, 100, 4))\n",
    "colors = ['#0780cf', '#765005', '#fa6d1d', '#0e2c82', '#b6b51f', '#da1f18', '#701866', '#f47a75', '#009db2', '#024b51', '#0780cf', '#765005']\n",
    "fig, ax = plt.subplots(1, 1)\n",
    "\n",
    "rootpath = 'C:\\code\\EDF\\Cost\\data\\EDF'\n",
    "plot(['2021_09_23_22_32_19_TIDigits_seed0/testacc.txt',\n",
    "      '2021_09_23_22_32_39_TIDigits_seed1/testacc.txt'],'EDF',0)\n",
    "rootpath = 'C:\\code\\EDF\\Cost\\data\\BRP'\n",
    "plot(['2021_09_23_15_53_29_TIDigits_seed-0/testacc.txt',\n",
    "      '2021_09_23_15_52_41_TIDigits_seed-1/testacc.txt'],'BRP',1)\n",
    "rootpath = 'C:\\code\\EDF\\Cost\\data\\Eprop'\n",
    "plot(['2021_09_23_16_54_57_TIDigits_seed/2021_09_23_16_54_57_TIDigits_seed-0/testacc.txt',\n",
    "      '2021_09_23_16_55_03_TIDigits_seed/2021_09_23_16_55_03_TIDigits_seed-1/testacc.txt'],'Eprop',2)\n",
    "rootpath = 'C:\\code\\EDF\\Cost\\data/NRR'\n",
    "plot(['2021_09_23_19_21_33_TIDigits_seed/2021_09_23_19_21_33_TIDigits_seed-0/testacc.txt',\n",
    "      '2021_09_23_22_05_28_TIDigits_seed/2021_09_23_22_05_28_TIDigits_seed-1/testacc.txt'],'NRR',3)\n",
    "plt.legend()\n",
    "plt.show()\n",
    "\n",
    "data_all = (100 - data_all)/100\n",
    "\n",
    "methods_list = {}\n",
    "methods_list['EDF'] = []\n",
    "methods_list['BRP'] = []\n",
    "methods_list['Eprop'] = []\n",
    "methods_list['NRR'] = []\n",
    "min_ = max(data_all[:,:,0].min(), \n",
    "        data_all[:,:,1].min(),\n",
    "        data_all[:,:,2].min(),\n",
    "        data_all[:,:,3].min())\n",
    "# min_=0.4\n",
    "max_ = min(data_all[:,:,0].max(), \n",
    "        data_all[:,:,1].max(), \n",
    "        data_all[:,:,2].max(), \n",
    "        data_all[:,:,3].max(),0.4)\n",
    "print('min',min_,'max',max_)\n",
    "for index in range(2):\n",
    "    x = np.linspace(min_, max_, 5)\n",
    "    print(x)\n",
    "    sub_methods_list = {}\n",
    "    sub_methods_list['EDF'] = []\n",
    "    sub_methods_list['BRP'] = []\n",
    "    sub_methods_list['Eprop'] = []\n",
    "    sub_methods_list['NRR'] = []\n",
    "    for i in range(len(x)):\n",
    "        try: a = np.where(data_all[index,:,0] <= x[i])[0][0]     # epoch - 1\n",
    "        except: a = 99\n",
    "        try: b = np.where(data_all[index,:,1] <= x[i])[0][0]  # epoch - 1\n",
    "        except: b = 99\n",
    "        try: c = np.where(data_all[index,:,2] <= x[i])[0][0]  # epoch - 1\n",
    "        except: c = 99\n",
    "        try: d = np.where(data_all[index,:,3] <= x[i])[0][0]  # epoch - 1\n",
    "        except: d = 99\n",
    "        sub_methods_list['EDF'].append(a+1)\n",
    "        sub_methods_list['BRP'].append(b+1)\n",
    "        sub_methods_list['Eprop'].append(c+1)\n",
    "        sub_methods_list['NRR'].append(d+1)\n",
    "    methods_list['EDF'].append(sub_methods_list['EDF'])\n",
    "    methods_list['BRP'].append(sub_methods_list['BRP'])\n",
    "    methods_list['Eprop'].append(sub_methods_list['Eprop'])\n",
    "    methods_list['NRR'].append(sub_methods_list['NRR'])\n",
    "methods_list['EDF'] = np.array(methods_list['EDF'])\n",
    "methods_list['BRP'] = np.array(methods_list['BRP'])\n",
    "methods_list['Eprop'] = np.array(methods_list['Eprop'])\n",
    "methods_list['NRR'] = np.array(methods_list['NRR'])\n",
    "df = pd.DataFrame({\n",
    "            'EDF':[methods_list['EDF'].mean(1).mean(0)*cost['EDF_tid'], \n",
    "                     methods_list['EDF'].mean(1).std(0)*cost['EDF_tid']],\n",
    "            'BRP':[methods_list['BRP'].mean(1).mean(0)*cost['BRP_tid'], \n",
    "                   methods_list['BRP'].mean(1).std(0)*cost['BRP_tid']],\n",
    "            'Eprop':[methods_list['Eprop'].mean(1).mean(0)*cost['Eprop_tid'], \n",
    "                     methods_list['Eprop'].mean(1).std(0)*cost['Eprop_tid']],\n",
    "            'NRR':[methods_list['NRR'].mean(1).mean(0)*cost['NRR_tid'], \n",
    "                     methods_list['NRR'].mean(1).std(0)*cost['NRR_tid']],\n",
    "}, index=['mean', 'std'])\n",
    "print(df/1e8)\n",
    "\n",
    "# df1 = df1/1e8\n",
    "df1 = df/1e8\n",
    "plt.bar(0, df1.iloc[0,1], width=0.5, color='C0', label='BRP')\n",
    "plt.errorbar(0, df1.iloc[0,1], fmt=' ', yerr=df1.iloc[1,1], xerr=0, capsize=5, color='k')\n",
    "plt.bar(1, df1.iloc[0,2], width=0.5, color='C0', label='E-prop')\n",
    "plt.errorbar(1, df1.iloc[0,2], fmt=' ', yerr=df1.iloc[1,2], xerr=0, capsize=5, color='k')\n",
    "plt.bar(2, df1.iloc[0,3], width=0.5, color='C0', label='NRR')\n",
    "plt.errorbar(2, df1.iloc[0,3], fmt=' ', yerr=df1.iloc[1,3], xerr=0, capsize=5, color='k')\n",
    "plt.bar(3, df1.iloc[0,0], width=0.5, color='C0', label='EAST')\n",
    "plt.errorbar(3, df1.iloc[0,0], fmt=' ', yerr=df1.iloc[1,0], xerr=0, capsize=5, color='k')\n",
    "plt.yticks(fontsize=16)\n",
    "plt.xticks(range(4),['BRP','E-prop','NRR','EAST'],fontsize=16)\n",
    "plt.text(-0.4,7,s='$× 10^8$',fontsize=14)\n",
    "plt.savefig('tid_cost.svg')\n",
    "plt.show()"
   ]
  },
  {
   "cell_type": "code",
   "execution_count": 125,
   "metadata": {},
   "outputs": [
    {
     "data": {
      "text/plain": [
       "0.03833333333333334"
      ]
     },
     "execution_count": 125,
     "metadata": {},
     "output_type": "execute_result"
    }
   ],
   "source": [
    "0.23/6"
   ]
  },
  {
   "cell_type": "markdown",
   "metadata": {},
   "source": [
    "# MNIST Cost"
   ]
  },
  {
   "cell_type": "code",
   "execution_count": 129,
   "metadata": {},
   "outputs": [
    {
     "name": "stdout",
     "output_type": "stream",
     "text": [
      "(2, 100)\n",
      "EDF\n",
      "0.9803185096153846\n",
      "0.0651041666666643\n",
      "(2, 100)\n",
      "BRP\n",
      "0.9884499999999999\n",
      "0.015000000000000568\n",
      "(2, 100)\n",
      "Eprop\n",
      "0.976297086248031\n",
      "0.024539346878341917\n",
      "(2, 100)\n",
      "NRR\n",
      "0.9855769282350173\n",
      "0.06310097300089268\n"
     ]
    },
    {
     "data": {
      "image/png": "[encoded data removed]",
      "text/plain": [
       "<Figure size 432x288 with 1 Axes>"
      ]
     },
     "metadata": {
      "needs_background": "light"
     },
     "output_type": "display_data"
    },
    {
     "name": "stdout",
     "output_type": "stream",
     "text": [
      "min 0.022756401544962158 max 0.050390615677222285\n",
      "[0.0227564  0.02966496 0.03657351 0.04348206 0.05039062]\n",
      "[0.0227564  0.02966496 0.03657351 0.04348206 0.05039062]\n",
      "           EDF       BRP     Eprop       NRR\n",
      "mean  4.469364  0.884172  7.051558  1.895938\n",
      "std   0.150653  0.025262  0.731765  0.033262\n"
     ]
    },
    {
     "data": {
      "image/png": "[encoded data removed]",
      "text/plain": [
       "<Figure size 432x288 with 1 Axes>"
      ]
     },
     "metadata": {
      "needs_background": "light"
     },
     "output_type": "display_data"
    }
   ],
   "source": [
    "def plot(list_,label,index):\n",
    "    acc_list = []\n",
    "    length = []\n",
    "    for i in range(len(list_)):\n",
    "        file = open(os.path.join(rootpath,list_[i]),'r').readlines()\n",
    "        length.append(len(file))\n",
    "    max_=min(length)\n",
    "    for j in range(len(list_)):\n",
    "        acc = []\n",
    "        file = open(os.path.join(rootpath,list_[j]),'r').readlines()\n",
    "        for i in range(len(file)):\n",
    "            acc.append(float(file[i].split(' ')[1].split('\\n')[0]))\n",
    "        acc_list.append(acc[:max_])\n",
    "#         print(j)\n",
    "        data_all[j,:,index] = acc[:max_]\n",
    "    acc_list = np.array(acc_list)\n",
    "    \n",
    "    print(acc_list.shape)\n",
    "    plt.plot(np.arange(acc_list.shape[1]),acc_list.mean(0),label=label)\n",
    "    print(label)\n",
    "    print(acc_list.mean(0).max()/100)\n",
    "    print(acc_list.std(0)[np.where(acc_list.mean(0)==acc_list.mean(0).max())[0][0]])\n",
    "    plt.fill_between(range(acc_list.shape[1]), (acc_list.mean(0) - lambda_std * acc_list.std(0)), (acc_list.mean(0) + lambda_std * acc_list.std(0)), alpha=.3)\n",
    "    \n",
    "data_all = np.zeros((2, 100, 4))\n",
    "colors = ['#0780cf', '#765005', '#fa6d1d', '#0e2c82', '#b6b51f', '#da1f18', '#701866', '#f47a75', '#009db2', '#024b51', '#0780cf', '#765005']\n",
    "fig, ax = plt.subplots(1, 1)\n",
    "\n",
    "rootpath = 'C:\\code\\EDF\\Cost\\data\\EDF'\n",
    "plot(['2021_09_24_15_35_48_MNIST_seed0/testacc.txt',\n",
    "      '2021_09_24_16_09_18_MNIST_seed1/testacc.txt'],'EDF',0)\n",
    "rootpath = 'C:\\code\\EDF\\Cost\\data\\BRP'\n",
    "plot(['2021_09_23_15_50_27_MNIST_seed-0/testacc.txt',\n",
    "      '2021_09_23_15_51_35_MNIST_seed-1/testacc.txt'],'BRP',1)\n",
    "rootpath = 'C:\\code\\EDF\\Cost\\data\\Eprop'\n",
    "plot(['2021_09_23_16_54_36_MNIST_seed/2021_09_23_16_54_36_MNIST_seed-0/testacc.txt',\n",
    "      '2021_09_23_17_00_28_MNIST_seed/2021_09_23_17_00_28_MNIST_seed-1/testacc.txt'],'Eprop',2)\n",
    "rootpath = 'C:\\code\\EDF\\Cost\\data/NRR'\n",
    "plot(['2021_09_23_18_28_34_MNIST_seed/2021_09_23_18_28_34_MNIST_seed-0/testacc.txt',\n",
    "      '2021_09_23_18_31_35_MNIST_seed/2021_09_23_18_31_35_MNIST_seed-1/testacc.txt'],'NRR',3)\n",
    "plt.legend()\n",
    "plt.show()\n",
    "\n",
    "data_all = (100 - data_all)/100\n",
    "\n",
    "# calculate the energy\n",
    "methods_list = {}\n",
    "methods_list['EDF'] = []\n",
    "methods_list['BRP'] = []\n",
    "methods_list['Eprop'] = []\n",
    "methods_list['NRR'] = []\n",
    "min_ = max(data_all[:,:,0].min(), \n",
    "        data_all[:,:,1].min(),\n",
    "        data_all[:,:,2].min(),\n",
    "        data_all[:,:,3].min())\n",
    "# min_=0.4\n",
    "max_ = min(data_all[:,:,0].max(), \n",
    "        data_all[:,:,1].max(), \n",
    "        data_all[:,:,2].max(), \n",
    "        data_all[:,:,3].max(),0.4)\n",
    "print('min',min_,'max',max_)\n",
    "for index in range(2):\n",
    "    x = np.linspace(min_, max_, 5)\n",
    "    print(x)\n",
    "    sub_methods_list = {}\n",
    "    sub_methods_list['EDF'] = []\n",
    "    sub_methods_list['BRP'] = []\n",
    "    sub_methods_list['Eprop'] = []\n",
    "    sub_methods_list['NRR'] = []\n",
    "    for i in range(len(x)):\n",
    "        try: a = np.where(data_all[index,:,0] <= x[i])[0][0]     # epoch - 1\n",
    "        except: a = 99\n",
    "        try: b = np.where(data_all[index,:,1] <= x[i])[0][0]  # epoch - 1\n",
    "        except: b = 99\n",
    "        try: c = np.where(data_all[index,:,2] <= x[i])[0][0]  # epoch - 1\n",
    "        except: c = 99\n",
    "        try: d = np.where(data_all[index,:,3] <= x[i])[0][0]  # epoch - 1\n",
    "        except: d = 99\n",
    "        sub_methods_list['EDF'].append(a+1)\n",
    "        sub_methods_list['BRP'].append(b+1)\n",
    "        sub_methods_list['Eprop'].append(c+1)\n",
    "        sub_methods_list['NRR'].append(d+1)\n",
    "    methods_list['EDF'].append(sub_methods_list['EDF'])\n",
    "    methods_list['BRP'].append(sub_methods_list['BRP'])\n",
    "    methods_list['Eprop'].append(sub_methods_list['Eprop'])\n",
    "    methods_list['NRR'].append(sub_methods_list['NRR'])\n",
    "methods_list['EDF'] = np.array(methods_list['EDF'])\n",
    "methods_list['BRP'] = np.array(methods_list['BRP'])\n",
    "methods_list['Eprop'] = np.array(methods_list['Eprop'])\n",
    "methods_list['NRR'] = np.array(methods_list['NRR'])\n",
    "df = pd.DataFrame({\n",
    "            'EDF':[methods_list['EDF'].mean(1).mean(0)*cost['EDF_mni'], \n",
    "                     methods_list['EDF'].mean(1).std(0)*cost['EDF_mni']],\n",
    "            'BRP':[methods_list['BRP'].mean(1).mean(0)*cost['BRP_mni'], \n",
    "                   methods_list['BRP'].mean(1).std(0)*cost['BRP_mni']],\n",
    "            'Eprop':[methods_list['Eprop'].mean(1).mean(0)*cost['Eprop_mni'], \n",
    "                     methods_list['Eprop'].mean(1).std(0)*cost['Eprop_mni']],\n",
    "            'NRR':[methods_list['NRR'].mean(1).mean(0)*cost['NRR_mni'], \n",
    "                     methods_list['NRR'].mean(1).std(0)*cost['NRR_mni']],\n",
    "}, index=['mean', 'std'])\n",
    "print(df/1e8)\n",
    "\n",
    "# df1 = df1/1e8\n",
    "df1 = df/1e8\n",
    "plt.bar(0, df1.iloc[0,2], width=0.5, color='C0', label='E-prop')\n",
    "plt.errorbar(0, df1.iloc[0,2], fmt=' ', yerr=df1.iloc[1,2], xerr=0, capsize=5, color='k')\n",
    "plt.bar(1, df1.iloc[0,3], width=0.5, color='C0', label='NRR')\n",
    "plt.errorbar(1, df1.iloc[0,3], fmt=' ', yerr=df1.iloc[1,3], xerr=0, capsize=5, color='k')\n",
    "plt.bar(2, df1.iloc[0,1], width=0.5, color='C0', label='BRP')\n",
    "plt.errorbar(2, df1.iloc[0,1], fmt=' ', yerr=df1.iloc[1,1], xerr=0, capsize=5, color='k')\n",
    "plt.bar(3, df1.iloc[0,0], width=0.5, color='C0', label='EAST')\n",
    "plt.errorbar(3, df1.iloc[0,0], fmt=' ', yerr=df1.iloc[1,0], xerr=0, capsize=5, color='k')\n",
    "plt.yticks(fontsize=16)\n",
    "plt.xticks(range(4),['E-prop','NRR','BRP','EAST'],fontsize=16)\n",
    "plt.text(-0.4,8.3,s='$× 10^8$',fontsize=14)\n",
    "plt.savefig('mnist_cost.svg')\n",
    "plt.show()"
   ]
  },
  {
   "cell_type": "markdown",
   "metadata": {},
   "source": [
    "# distribution test"
   ]
  },
  {
   "cell_type": "code",
   "execution_count": 152,
   "metadata": {},
   "outputs": [
    {
     "name": "stdout",
     "output_type": "stream",
     "text": [
      "Null Hypothesis:var(s1)=var(s2)，α=0.05\n",
      "\tP: 2.537351866394033e-06\n",
      "Null Hypothesis:mean(s1)=mean(s2)，α=0.05\n",
      "Accept the Null Hypothesis.\n"
     ]
    },
    {
     "data": {
      "text/plain": [
       "0.05377737417373196"
      ]
     },
     "execution_count": 152,
     "metadata": {},
     "output_type": "execute_result"
    }
   ],
   "source": [
    "from scipy.stats import ttest_ind,norm,f\n",
    "import numpy as np\n",
    "def ftest(s1,s2):\n",
    "    '''F-test'''\n",
    "    print(\"Null Hypothesis:var(s1)=var(s2)，α=0.05\")\n",
    "    F = np.var(s1)/np.var(s2)\n",
    "    v1 = len(s1) - 1\n",
    "    v2 = len(s2) - 1\n",
    "    p_val = 1 - 2*abs(0.5-f.cdf(F,v1,v2))\n",
    "    print('\\tP:',p_val)\n",
    "    if p_val < 0.05:\n",
    "#         print(\"Reject the Null Hypothesis.\")\n",
    "        equal_var=False\n",
    "    else:\n",
    "#         print(\"Accept the Null Hypothesis.\")\n",
    "        equal_var=True\n",
    "    return equal_var\n",
    "         \n",
    "def ttest_ind_fun(s1,s2):\n",
    "    '''t-test'''\n",
    "    equal_var = ftest(s1,s2)\n",
    "    print(\"Null Hypothesis:mean(s1)=mean(s2)，α=0.05\")\n",
    "    ttest,pval = ttest_ind(s1,s2,equal_var=equal_var)\n",
    "    if pval < 0.05:\n",
    "        print(\"Reject the Null Hypothesis.\")\n",
    "    else:\n",
    "        print(\"Accept the Null Hypothesis.\")\n",
    "    return pval\n",
    "\n",
    "np.random.seed(0)\n",
    "\n",
    "mean = [2.43,6.72]\n",
    "std = [0.12,4.89]\n",
    "s1 = norm.rvs(loc=mean[0],scale=std[0],size=5)\n",
    "s2 = norm.rvs(loc=mean[1],scale=std[1],size=5)\n",
    "ttest_ind_fun(s1,s2)"
   ]
  }
 ],
 "metadata": {
  "kernelspec": {
   "display_name": "py374",
   "language": "python",
   "name": "py374"
  },
  "language_info": {
   "codemirror_mode": {
    "name": "ipython",
    "version": 3
   },
   "file_extension": ".py",
   "mimetype": "text/x-python",
   "name": "python",
   "nbconvert_exporter": "python",
   "pygments_lexer": "ipython3",
   "version": "3.8.5"
  },
  "toc": {
   "base_numbering": 1,
   "nav_menu": {},
   "number_sections": true,
   "sideBar": true,
   "skip_h1_title": false,
   "title_cell": "Table of Contents",
   "title_sidebar": "Contents",
   "toc_cell": false,
   "toc_position": {
    "height": "calc(100% - 180px)",
    "left": "10px",
    "top": "150px",
    "width": "359.524px"
   },
   "toc_section_display": true,
   "toc_window_display": true
  }
 },
 "nbformat": 4,
 "nbformat_minor": 4
}
